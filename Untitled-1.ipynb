{
    "cells": [
        {
            "cell_type": "code",
            "execution_count": 3,
            "source": [
                "data = [583,[\"1628540433.370691\",\"1628540460.000000\",\"2277.97000\",\"2277.97000\",\"2277.97000\",\"2277.97000\",\"2277.97000\",\"0.02162660\",1],\"ohlc-1\",\"ETH/GBP\"]\r\n",
                "\r\n",
                "if data[0] == 583:\r\n",
                "    print(data[0])\r\n"
            ],
            "outputs": [
                {
                    "output_type": "stream",
                    "name": "stdout",
                    "text": [
                        "583\n"
                    ]
                }
            ],
            "metadata": {}
        },
        {
            "cell_type": "code",
            "execution_count": null,
            "source": [
                "['548',\r\n",
                " 'a:309216000',\r\n",
                " '0',\r\n",
                " '018663457',\r\n",
                " 'b:309215000',\r\n",
                " '3',\r\n",
                " '310226659',\r\n",
                " 'c:309215000',\r\n",
                " '020068660',\r\n",
                " 'v:7470489982592', '8317954243669', 'p:306800072', '306498076', 't:42543', '47917', 'l:289401000', '289401000', 'h:318800000', '318800000', 'o:301302000', '299500000', 'ticker', 'ETH/USD']"
            ],
            "outputs": [],
            "metadata": {}
        },
        {
            "cell_type": "code",
            "execution_count": 4,
            "source": [
                "import json\r\n",
                "from helper import *\r\n",
                "\r\n",
                "if not doesFileExists('./order_log.json'):\r\n",
                "    with open('order_log.json', 'w') as file:\r\n",
                "        json.dump({}, file)"
            ],
            "outputs": [
                {
                    "output_type": "error",
                    "ename": "PermissionError",
                    "evalue": "[Errno 13] Permission denied: 'order_log.json'",
                    "traceback": [
                        "\u001b[1;31m---------------------------------------------------------------------------\u001b[0m",
                        "\u001b[1;31mPermissionError\u001b[0m                           Traceback (most recent call last)",
                        "\u001b[1;32m~\\AppData\\Local\\Temp/ipykernel_36676/1998751825.py\u001b[0m in \u001b[0;36m<module>\u001b[1;34m\u001b[0m\n\u001b[0;32m      3\u001b[0m \u001b[1;33m\u001b[0m\u001b[0m\n\u001b[0;32m      4\u001b[0m \u001b[1;32mif\u001b[0m \u001b[1;32mnot\u001b[0m \u001b[0mdoesFileExists\u001b[0m\u001b[1;33m(\u001b[0m\u001b[1;34m'./order_log.json'\u001b[0m\u001b[1;33m)\u001b[0m\u001b[1;33m:\u001b[0m\u001b[1;33m\u001b[0m\u001b[1;33m\u001b[0m\u001b[0m\n\u001b[1;32m----> 5\u001b[1;33m     \u001b[1;32mwith\u001b[0m \u001b[0mopen\u001b[0m\u001b[1;33m(\u001b[0m\u001b[1;34m'order_log.json'\u001b[0m\u001b[1;33m,\u001b[0m \u001b[1;34m'w'\u001b[0m\u001b[1;33m)\u001b[0m \u001b[1;32mas\u001b[0m \u001b[0mfile\u001b[0m\u001b[1;33m:\u001b[0m\u001b[1;33m\u001b[0m\u001b[1;33m\u001b[0m\u001b[0m\n\u001b[0m\u001b[0;32m      6\u001b[0m         \u001b[0mjson\u001b[0m\u001b[1;33m.\u001b[0m\u001b[0mdump\u001b[0m\u001b[1;33m(\u001b[0m\u001b[1;33m{\u001b[0m\u001b[1;33m}\u001b[0m\u001b[1;33m,\u001b[0m \u001b[0mfile\u001b[0m\u001b[1;33m)\u001b[0m\u001b[1;33m\u001b[0m\u001b[1;33m\u001b[0m\u001b[0m\n",
                        "\u001b[1;31mPermissionError\u001b[0m: [Errno 13] Permission denied: 'order_log.json'"
                    ]
                }
            ],
            "metadata": {}
        },
        {
            "cell_type": "code",
            "execution_count": 1,
            "source": [
                "from helper import *\r\n",
                "\r\n",
                "config = get_config()\r\n",
                "\r\n",
                "print(config)"
            ],
            "outputs": [],
            "metadata": {}
        }
    ],
    "metadata": {
        "orig_nbformat": 4,
        "language_info": {
            "name": "python",
            "version": "3.8.10",
            "mimetype": "text/x-python",
            "codemirror_mode": {
                "name": "ipython",
                "version": 3
            },
            "pygments_lexer": "ipython3",
            "nbconvert_exporter": "python",
            "file_extension": ".py"
        },
        "kernelspec": {
            "name": "python3",
            "display_name": "Python 3.8.10 64-bit ('venv': venv)"
        },
        "interpreter": {
            "hash": "7e4c536390e1b93267d222244adcf9ae99b620038641420a1bea58ef1350a76f"
        }
    },
    "nbformat": 4,
    "nbformat_minor": 2
}